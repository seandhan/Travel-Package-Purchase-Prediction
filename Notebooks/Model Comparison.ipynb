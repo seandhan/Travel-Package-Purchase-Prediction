{
 "cells": [
  {
   "cell_type": "markdown",
   "metadata": {},
   "source": [
    "# Comparing all models"
   ]
  },
  {
   "cell_type": "code",
   "execution_count": 165,
   "metadata": {},
   "outputs": [],
   "source": [
    "# defining list of models\n",
    "models = [dtree, dtree_gridCV, rf_estimator, rf_tuned, ab_classifer, ab_tuned,\n",
    "          gb_estimator, gb_tuned, xgb_estimator, xgb_tuned,\n",
    "          stacking_estimator]\n",
    "\n",
    "# defining empty lists to add train and test results\n",
    "Accuracy_train = []\n",
    "Accuracy_test = []\n",
    "Recall_train = []\n",
    "Recall_test = []\n",
    "\n",
    "# looping through all the models to get the rmse and r2 scores\n",
    "for model in models:\n",
    "    # accuracy score\n",
    "    j = metrics_summary(model, False)\n",
    "    Accuracy_train.append(j[0])\n",
    "    Accuracy_test.append(j[1])\n",
    "    Recall_train.append(j[2])\n",
    "    Recall_test.append(j[3])"
   ]
  },
  {
   "cell_type": "code",
   "execution_count": 166,
   "metadata": {
    "scrolled": true
   },
   "outputs": [
    {
     "data": {
      "text/html": [
       "<div>\n",
       "<style scoped>\n",
       "    .dataframe tbody tr th:only-of-type {\n",
       "        vertical-align: middle;\n",
       "    }\n",
       "\n",
       "    .dataframe tbody tr th {\n",
       "        vertical-align: top;\n",
       "    }\n",
       "\n",
       "    .dataframe thead th {\n",
       "        text-align: right;\n",
       "    }\n",
       "</style>\n",
       "<table border=\"1\" class=\"dataframe\">\n",
       "  <thead>\n",
       "    <tr style=\"text-align: right;\">\n",
       "      <th></th>\n",
       "      <th>Model</th>\n",
       "      <th>Train_Accuracy</th>\n",
       "      <th>Test_Accuracy</th>\n",
       "      <th>Train_Recall</th>\n",
       "      <th>Test_Recall</th>\n",
       "    </tr>\n",
       "  </thead>\n",
       "  <tbody>\n",
       "    <tr>\n",
       "      <th>0</th>\n",
       "      <td>Decision Tree</td>\n",
       "      <td>0.995323</td>\n",
       "      <td>0.861622</td>\n",
       "      <td>0.981366</td>\n",
       "      <td>0.652174</td>\n",
       "    </tr>\n",
       "    <tr>\n",
       "      <th>1</th>\n",
       "      <td>Tuned Decision Tree</td>\n",
       "      <td>0.995031</td>\n",
       "      <td>0.859577</td>\n",
       "      <td>0.979814</td>\n",
       "      <td>0.637681</td>\n",
       "    </tr>\n",
       "    <tr>\n",
       "      <th>2</th>\n",
       "      <td>Random Forest</td>\n",
       "      <td>0.999123</td>\n",
       "      <td>0.890934</td>\n",
       "      <td>0.995342</td>\n",
       "      <td>0.489130</td>\n",
       "    </tr>\n",
       "    <tr>\n",
       "      <th>3</th>\n",
       "      <td>Tuned Random Forest</td>\n",
       "      <td>0.997077</td>\n",
       "      <td>0.912065</td>\n",
       "      <td>0.984472</td>\n",
       "      <td>0.605072</td>\n",
       "    </tr>\n",
       "    <tr>\n",
       "      <th>4</th>\n",
       "      <td>AdaBoost Regressor</td>\n",
       "      <td>0.843905</td>\n",
       "      <td>0.838446</td>\n",
       "      <td>0.281056</td>\n",
       "      <td>0.286232</td>\n",
       "    </tr>\n",
       "    <tr>\n",
       "      <th>5</th>\n",
       "      <td>Tuned AdaBoost Regressor</td>\n",
       "      <td>0.845659</td>\n",
       "      <td>0.838446</td>\n",
       "      <td>0.282609</td>\n",
       "      <td>0.278986</td>\n",
       "    </tr>\n",
       "    <tr>\n",
       "      <th>6</th>\n",
       "      <td>Gradient Boosting Regressor</td>\n",
       "      <td>0.878690</td>\n",
       "      <td>0.862986</td>\n",
       "      <td>0.428571</td>\n",
       "      <td>0.362319</td>\n",
       "    </tr>\n",
       "    <tr>\n",
       "      <th>7</th>\n",
       "      <td>Tuned Gradient Boosting Regressor</td>\n",
       "      <td>1.000000</td>\n",
       "      <td>0.921609</td>\n",
       "      <td>1.000000</td>\n",
       "      <td>0.655797</td>\n",
       "    </tr>\n",
       "    <tr>\n",
       "      <th>8</th>\n",
       "      <td>XGBoost Regressor</td>\n",
       "      <td>0.997369</td>\n",
       "      <td>0.904567</td>\n",
       "      <td>0.986025</td>\n",
       "      <td>0.594203</td>\n",
       "    </tr>\n",
       "    <tr>\n",
       "      <th>9</th>\n",
       "      <td>Tuned XGBoost Regressor</td>\n",
       "      <td>0.999415</td>\n",
       "      <td>0.905930</td>\n",
       "      <td>0.996894</td>\n",
       "      <td>0.608696</td>\n",
       "    </tr>\n",
       "    <tr>\n",
       "      <th>10</th>\n",
       "      <td>Stacking Regressor</td>\n",
       "      <td>0.997954</td>\n",
       "      <td>0.912065</td>\n",
       "      <td>0.990683</td>\n",
       "      <td>0.673913</td>\n",
       "    </tr>\n",
       "  </tbody>\n",
       "</table>\n",
       "</div>"
      ],
      "text/plain": [
       "                                Model  Train_Accuracy  Test_Accuracy  \\\n",
       "0                       Decision Tree        0.995323       0.861622   \n",
       "1                 Tuned Decision Tree        0.995031       0.859577   \n",
       "2                       Random Forest        0.999123       0.890934   \n",
       "3                 Tuned Random Forest        0.997077       0.912065   \n",
       "4                  AdaBoost Regressor        0.843905       0.838446   \n",
       "5            Tuned AdaBoost Regressor        0.845659       0.838446   \n",
       "6         Gradient Boosting Regressor        0.878690       0.862986   \n",
       "7   Tuned Gradient Boosting Regressor        1.000000       0.921609   \n",
       "8                   XGBoost Regressor        0.997369       0.904567   \n",
       "9             Tuned XGBoost Regressor        0.999415       0.905930   \n",
       "10                 Stacking Regressor        0.997954       0.912065   \n",
       "\n",
       "    Train_Recall  Test_Recall  \n",
       "0       0.981366     0.652174  \n",
       "1       0.979814     0.637681  \n",
       "2       0.995342     0.489130  \n",
       "3       0.984472     0.605072  \n",
       "4       0.281056     0.286232  \n",
       "5       0.282609     0.278986  \n",
       "6       0.428571     0.362319  \n",
       "7       1.000000     0.655797  \n",
       "8       0.986025     0.594203  \n",
       "9       0.996894     0.608696  \n",
       "10      0.990683     0.673913  "
      ]
     },
     "execution_count": 166,
     "metadata": {},
     "output_type": "execute_result"
    }
   ],
   "source": [
    "comparison_frame = pd.DataFrame({'Model': ['Decision Tree', 'Tuned Decision Tree', 'Random Forest', 'Tuned Random Forest',\n",
    "                                           'AdaBoost Regressor', 'Tuned AdaBoost Regressor',\n",
    "                                           'Gradient Boosting Regressor', 'Tuned Gradient Boosting Regressor',\n",
    "                                           'XGBoost Regressor',  'Tuned XGBoost Regressor', 'Stacking Regressor'],\n",
    "                                 'Train_Accuracy': Accuracy_train, 'Test_Accuracy': Accuracy_test,\n",
    "                                 'Train_Recall': Recall_train, 'Test_Recall': Recall_test})\n",
    "comparison_frame"
   ]
  },
  {
   "cell_type": "markdown",
   "metadata": {},
   "source": [
    "---"
   ]
  },
  {
   "cell_type": "markdown",
   "metadata": {},
   "source": [
    "# Business Recommendations"
   ]
  },
  {
   "cell_type": "markdown",
   "metadata": {},
   "source": [
    "* This predictive model can be used to determine the customers that the Marketing team should target for the travel agency next package.\n",
    "\n",
    "* Ideal customers to target would be Executives, having a passport, who are either single or divorced and enquired on travel plans by themselves.\n",
    "\n",
    "* Having a Passport is the greatest indication that a person will be interested in purchasing a travel product.\n",
    "\n",
    "* Customers who are not partnered are also those who will have a higher proplensity to travel.\n",
    "\n",
    "* Free Lancers who travel for their jobs may not be inclined to purchase a travel plan as they may want to settle and relax on their downtime."
   ]
  },
  {
   "cell_type": "markdown",
   "metadata": {},
   "source": [
    "---"
   ]
  }
 ],
 "metadata": {
  "kernelspec": {
   "display_name": "Python 3 (ipykernel)",
   "language": "python",
   "name": "python3"
  },
  "language_info": {
   "codemirror_mode": {
    "name": "ipython",
    "version": 3
   },
   "file_extension": ".py",
   "mimetype": "text/x-python",
   "name": "python",
   "nbconvert_exporter": "python",
   "pygments_lexer": "ipython3",
   "version": "3.11.5"
  },
  "toc": {
   "base_numbering": 1,
   "nav_menu": {},
   "number_sections": true,
   "sideBar": true,
   "skip_h1_title": false,
   "title_cell": "Table of Contents",
   "title_sidebar": "Contents",
   "toc_cell": false,
   "toc_position": {
    "height": "601.667px",
    "left": "26px",
    "top": "110.633px",
    "width": "337.667px"
   },
   "toc_section_display": true,
   "toc_window_display": true
  },
  "varInspector": {
   "cols": {
    "lenName": 16,
    "lenType": 16,
    "lenVar": 40
   },
   "kernels_config": {
    "python": {
     "delete_cmd_postfix": "",
     "delete_cmd_prefix": "del ",
     "library": "var_list.py",
     "varRefreshCmd": "print(var_dic_list())"
    },
    "r": {
     "delete_cmd_postfix": ") ",
     "delete_cmd_prefix": "rm(",
     "library": "var_list.r",
     "varRefreshCmd": "cat(var_dic_list()) "
    }
   },
   "types_to_exclude": [
    "module",
    "function",
    "builtin_function_or_method",
    "instance",
    "_Feature"
   ],
   "window_display": false
  }
 },
 "nbformat": 4,
 "nbformat_minor": 4
}
