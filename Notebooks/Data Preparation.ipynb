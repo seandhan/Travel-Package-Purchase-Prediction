{
 "cells": [
  {
   "cell_type": "markdown",
   "metadata": {},
   "source": [
    "# Data Preparation  "
   ]
  },
  {
   "cell_type": "markdown",
   "metadata": {},
   "source": [
    "Let's prepare the data for **Bagging** and **Boosting** Ensemble model building.\n",
    "To do this we must do the following:\n",
    "1. Drop columns that will add no value to the models\n",
    "    * Drop the \"Customer Interaction Data\"\n",
    "2. Missing value treatment.\n",
    "3. Outlier treatment.\n",
    "4. Ensure that the target variable is binary or dichotomous."
   ]
  },
  {
   "cell_type": "markdown",
   "metadata": {},
   "source": [
    "---"
   ]
  },
  {
   "cell_type": "markdown",
   "metadata": {},
   "source": [
    "## Dropping unncessary variables"
   ]
  },
  {
   "cell_type": "markdown",
   "metadata": {},
   "source": [
    "**Dropping the `Customer Interaction Data` variables**\n",
    "\n",
    "We shall drop these variables as they are data gathered post pitching which cannot be used to predict any model."
   ]
  },
  {
   "cell_type": "code",
   "execution_count": 75,
   "metadata": {},
   "outputs": [],
   "source": [
    "Customer_Interaction_vars = ['PitchSatisfactionScore', 'ProductPitched', 'NumberOfFollowups','DurationOfPitch']"
   ]
  },
  {
   "cell_type": "code",
   "execution_count": 76,
   "metadata": {},
   "outputs": [],
   "source": [
    "# Drop ZIPCode column inplace\n",
    "data.drop(columns = Customer_Interaction_vars, inplace=True)"
   ]
  },
  {
   "cell_type": "markdown",
   "metadata": {},
   "source": [
    "For completeness, let's update the `numerical_vars` and `categorical_vars` lists"
   ]
  },
  {
   "cell_type": "code",
   "execution_count": 77,
   "metadata": {},
   "outputs": [],
   "source": [
    "# Remove 'Customer Interaction variables' in numerical variable list\n",
    "for variable in Customer_Interaction_vars:\n",
    "    if variable in numerical_vars:\n",
    "        numerical_vars.remove(variable)\n",
    "\n",
    "# Remove 'Customer Interaction variables' in categorical variable list\n",
    "for variable in Customer_Interaction_vars:\n",
    "    if variable in categorical_vars:\n",
    "        categorical_vars.remove(variable)"
   ]
  },
  {
   "cell_type": "markdown",
   "metadata": {},
   "source": [
    "---"
   ]
  },
  {
   "cell_type": "markdown",
   "metadata": {},
   "source": [
    "## Missing Value Treatment"
   ]
  },
  {
   "cell_type": "markdown",
   "metadata": {},
   "source": [
    "**Missing Value check**"
   ]
  },
  {
   "cell_type": "code",
   "execution_count": 78,
   "metadata": {},
   "outputs": [
    {
     "name": "stdout",
     "output_type": "stream",
     "text": [
      "There are NO missing values in the dataset\n"
     ]
    }
   ],
   "source": [
    "#Applying the missing value summary function\n",
    "missing_val_chk(data)"
   ]
  },
  {
   "cell_type": "markdown",
   "metadata": {},
   "source": [
    "---"
   ]
  },
  {
   "cell_type": "markdown",
   "metadata": {},
   "source": [
    "## Outlier Treatment"
   ]
  },
  {
   "cell_type": "code",
   "execution_count": 79,
   "metadata": {},
   "outputs": [
    {
     "name": "stdout",
     "output_type": "stream",
     "text": [
      "The 'NumberOfTrips' distribution has '0' lower outliers and '109' upper outliers.\n",
      "\n",
      "The 'MonthlyIncome' distribution has '0' lower outliers and '373' upper outliers.\n",
      "\n"
     ]
    }
   ],
   "source": [
    "#Applying the Outlier check function for the sub-dataframe of numerical variables\n",
    "outlier_count(data[numerical_vars])"
   ]
  },
  {
   "cell_type": "markdown",
   "metadata": {},
   "source": [
    "According to literature, **Bagging** Ensemble methods are robust to outliers while **Boosting** Ensemble methods may be sensitive.  \n",
    "Therefore outlier treatment will only be necessary for the **Boosting** Ensemble methods.\n",
    "\n",
    "For **Bagging**, we shall use the data without making any changes.\n",
    "\n",
    "For **Boosting**, we shall clone the data, deal with the outliers and in the end run and compare models with and without outlier treatment."
   ]
  },
  {
   "cell_type": "code",
   "execution_count": 80,
   "metadata": {},
   "outputs": [],
   "source": [
    "# Clone data for outlier treatment\n",
    "data_clean = copy.deepcopy(data)"
   ]
  },
  {
   "cell_type": "markdown",
   "metadata": {},
   "source": [
    "---"
   ]
  },
  {
   "cell_type": "markdown",
   "metadata": {},
   "source": [
    "### NumberOfTrips"
   ]
  },
  {
   "cell_type": "code",
   "execution_count": 81,
   "metadata": {
    "scrolled": true
   },
   "outputs": [
    {
     "data": {
      "text/plain": [
       "count    4888.000000\n",
       "mean        3.219517\n",
       "std         1.759505\n",
       "min         1.000000\n",
       "25%         2.000000\n",
       "50%         3.000000\n",
       "75%         4.000000\n",
       "max         8.000000\n",
       "Name: NumberOfTrips, dtype: float64"
      ]
     },
     "execution_count": 81,
     "metadata": {},
     "output_type": "execute_result"
    }
   ],
   "source": [
    "data_clean.NumberOfTrips.describe()"
   ]
  },
  {
   "cell_type": "markdown",
   "metadata": {},
   "source": [
    "Between Q3 and Q4, there is significant change compared to (Q1-Q2) & (Q2-Q3).  \n",
    "Let's explore further to see where there is a rapid jump."
   ]
  },
  {
   "cell_type": "code",
   "execution_count": 82,
   "metadata": {},
   "outputs": [
    {
     "name": "stdout",
     "output_type": "stream",
     "text": [
      "The '0.8' quantile value is '5.0'.\n",
      "The '0.9' quantile value is '6.0'.\n",
      "The '0.95' quantile value is '7.0'.\n",
      "The '0.98' quantile value is '8.0'.\n",
      "The '0.99' quantile value is '8.0'.\n",
      "The '0.995' quantile value is '8.0'.\n",
      "The '1.0' quantile value is '8.0'.\n"
     ]
    }
   ],
   "source": [
    "quantile_check(data_clean.NumberOfTrips)"
   ]
  },
  {
   "cell_type": "markdown",
   "metadata": {},
   "source": [
    "After the 95th percentile, the number of trips remain at maximum of 8.  \n",
    "Let's check how many values greater than 7.0 the series contain."
   ]
  },
  {
   "cell_type": "code",
   "execution_count": 83,
   "metadata": {
    "scrolled": true
   },
   "outputs": [
    {
     "data": {
      "text/plain": [
       "8.0    109\n",
       "Name: NumberOfTrips, dtype: int64"
      ]
     },
     "execution_count": 83,
     "metadata": {},
     "output_type": "execute_result"
    }
   ],
   "source": [
    "data_clean[data_clean.NumberOfTrips > data_clean.NumberOfTrips.quantile(\n",
    "    0.95)]['NumberOfTrips'].value_counts()"
   ]
  },
  {
   "cell_type": "markdown",
   "metadata": {},
   "source": [
    "There are **109** values of 8 which corresponds to the number of outliers.\n",
    "Therefore let's cap the number of trips at 7.0 (the 95th percentile)"
   ]
  },
  {
   "cell_type": "code",
   "execution_count": 84,
   "metadata": {},
   "outputs": [],
   "source": [
    "# capping outliers at 95th percentile\n",
    "\n",
    "data_clean.NumberOfTrips = np.where(\n",
    "    data_clean.NumberOfTrips > data_clean.NumberOfTrips.quantile(0.95),\n",
    "    data_clean.NumberOfTrips.quantile(0.95), data_clean.NumberOfTrips)"
   ]
  },
  {
   "cell_type": "markdown",
   "metadata": {},
   "source": [
    "---"
   ]
  },
  {
   "cell_type": "markdown",
   "metadata": {},
   "source": [
    "### MonthlyIncome"
   ]
  },
  {
   "cell_type": "code",
   "execution_count": 85,
   "metadata": {
    "scrolled": true
   },
   "outputs": [
    {
     "data": {
      "text/plain": [
       "count     4888.000000\n",
       "mean     23540.898732\n",
       "std       5040.761959\n",
       "min      15000.000000\n",
       "25%      20485.000000\n",
       "50%      22347.000000\n",
       "75%      25424.750000\n",
       "max      40000.000000\n",
       "Name: MonthlyIncome, dtype: float64"
      ]
     },
     "execution_count": 85,
     "metadata": {},
     "output_type": "execute_result"
    }
   ],
   "source": [
    "data_clean.MonthlyIncome.describe()"
   ]
  },
  {
   "cell_type": "markdown",
   "metadata": {},
   "source": [
    "Between (Q3 & Q4), there is significant change compared to (Q1 & Q2) & (Q2 & Q3).  \n",
    "Let's explore further to see where there is a rapid jump."
   ]
  },
  {
   "cell_type": "code",
   "execution_count": 86,
   "metadata": {},
   "outputs": [
    {
     "name": "stdout",
     "output_type": "stream",
     "text": [
      "The '0.8' quantile value is '26867.0'.\n",
      "The '0.9' quantile value is '31869.9'.\n",
      "The '0.95' quantile value is '34632.85'.\n",
      "The '0.98' quantile value is '37418.0'.\n",
      "The '0.99' quantile value is '38084.0'.\n",
      "The '0.995' quantile value is '38310.08499999999'.\n",
      "The '1.0' quantile value is '40000.0'.\n"
     ]
    }
   ],
   "source": [
    "quantile_check(data_clean.MonthlyIncome)"
   ]
  },
  {
   "cell_type": "markdown",
   "metadata": {},
   "source": [
    "Since the variable is continuous, let's calculate the upper fence of the box plot that illustrates the outliers"
   ]
  },
  {
   "cell_type": "code",
   "execution_count": 87,
   "metadata": {},
   "outputs": [
    {
     "data": {
      "text/plain": [
       "32834.375"
      ]
     },
     "execution_count": 87,
     "metadata": {},
     "output_type": "execute_result"
    }
   ],
   "source": [
    "# Calculate the Inter Quartile Range\n",
    "MonthlyIncome_IQR = spy.stats.iqr(data_clean.MonthlyIncome, nan_policy=\"omit\")\n",
    "# Calculate the upper fence\n",
    "upper_fence = data_clean.MonthlyIncome.quantile(0.75) + 1.5 * MonthlyIncome_IQR\n",
    "upper_fence"
   ]
  },
  {
   "cell_type": "markdown",
   "metadata": {},
   "source": [
    "Let's check the number of rows above the `upper fence`"
   ]
  },
  {
   "cell_type": "code",
   "execution_count": 88,
   "metadata": {},
   "outputs": [
    {
     "data": {
      "text/html": [
       "<div>\n",
       "<style scoped>\n",
       "    .dataframe tbody tr th:only-of-type {\n",
       "        vertical-align: middle;\n",
       "    }\n",
       "\n",
       "    .dataframe tbody tr th {\n",
       "        vertical-align: top;\n",
       "    }\n",
       "\n",
       "    .dataframe thead th {\n",
       "        text-align: right;\n",
       "    }\n",
       "</style>\n",
       "<table border=\"1\" class=\"dataframe\">\n",
       "  <thead>\n",
       "    <tr style=\"text-align: right;\">\n",
       "      <th></th>\n",
       "      <th>ProdTaken</th>\n",
       "      <th>Age</th>\n",
       "      <th>PreferredLoginDevice</th>\n",
       "      <th>CityTier</th>\n",
       "      <th>Occupation</th>\n",
       "      <th>Gender</th>\n",
       "      <th>NumberOfPersonVisited</th>\n",
       "      <th>PreferredPropertyStar</th>\n",
       "      <th>MaritalStatus</th>\n",
       "      <th>NumberOfTrips</th>\n",
       "      <th>Passport</th>\n",
       "      <th>OwnCar</th>\n",
       "      <th>NumberOfChildrenVisited</th>\n",
       "      <th>Designation</th>\n",
       "      <th>MonthlyIncome</th>\n",
       "    </tr>\n",
       "  </thead>\n",
       "  <tbody>\n",
       "    <tr>\n",
       "      <th>25</th>\n",
       "      <td>0</td>\n",
       "      <td>53.0</td>\n",
       "      <td>Self Enquiry</td>\n",
       "      <td>1</td>\n",
       "      <td>Salaried</td>\n",
       "      <td>Female</td>\n",
       "      <td>2</td>\n",
       "      <td>3.0</td>\n",
       "      <td>Married</td>\n",
       "      <td>5.0</td>\n",
       "      <td>0</td>\n",
       "      <td>0</td>\n",
       "      <td>1.0</td>\n",
       "      <td>VP</td>\n",
       "      <td>34094.0</td>\n",
       "    </tr>\n",
       "    <tr>\n",
       "      <th>29</th>\n",
       "      <td>0</td>\n",
       "      <td>46.0</td>\n",
       "      <td>Self Enquiry</td>\n",
       "      <td>3</td>\n",
       "      <td>Small Business</td>\n",
       "      <td>Female</td>\n",
       "      <td>2</td>\n",
       "      <td>5.0</td>\n",
       "      <td>Single</td>\n",
       "      <td>4.0</td>\n",
       "      <td>0</td>\n",
       "      <td>0</td>\n",
       "      <td>1.0</td>\n",
       "      <td>VP</td>\n",
       "      <td>33947.0</td>\n",
       "    </tr>\n",
       "    <tr>\n",
       "      <th>38</th>\n",
       "      <td>0</td>\n",
       "      <td>36.0</td>\n",
       "      <td>Self Enquiry</td>\n",
       "      <td>1</td>\n",
       "      <td>Salaried</td>\n",
       "      <td>Female</td>\n",
       "      <td>2</td>\n",
       "      <td>3.0</td>\n",
       "      <td>Divorced</td>\n",
       "      <td>1.0</td>\n",
       "      <td>1</td>\n",
       "      <td>1</td>\n",
       "      <td>0.0</td>\n",
       "      <td>Executive</td>\n",
       "      <td>40000.0</td>\n",
       "    </tr>\n",
       "    <tr>\n",
       "      <th>45</th>\n",
       "      <td>1</td>\n",
       "      <td>41.0</td>\n",
       "      <td>Self Enquiry</td>\n",
       "      <td>1</td>\n",
       "      <td>Large Business</td>\n",
       "      <td>Female</td>\n",
       "      <td>2</td>\n",
       "      <td>3.0</td>\n",
       "      <td>Divorced</td>\n",
       "      <td>2.0</td>\n",
       "      <td>0</td>\n",
       "      <td>1</td>\n",
       "      <td>0.0</td>\n",
       "      <td>VP</td>\n",
       "      <td>34545.0</td>\n",
       "    </tr>\n",
       "    <tr>\n",
       "      <th>62</th>\n",
       "      <td>0</td>\n",
       "      <td>50.0</td>\n",
       "      <td>Self Enquiry</td>\n",
       "      <td>1</td>\n",
       "      <td>Small Business</td>\n",
       "      <td>Female</td>\n",
       "      <td>2</td>\n",
       "      <td>3.0</td>\n",
       "      <td>Married</td>\n",
       "      <td>6.0</td>\n",
       "      <td>1</td>\n",
       "      <td>1</td>\n",
       "      <td>1.0</td>\n",
       "      <td>VP</td>\n",
       "      <td>33740.0</td>\n",
       "    </tr>\n",
       "    <tr>\n",
       "      <th>...</th>\n",
       "      <td>...</td>\n",
       "      <td>...</td>\n",
       "      <td>...</td>\n",
       "      <td>...</td>\n",
       "      <td>...</td>\n",
       "      <td>...</td>\n",
       "      <td>...</td>\n",
       "      <td>...</td>\n",
       "      <td>...</td>\n",
       "      <td>...</td>\n",
       "      <td>...</td>\n",
       "      <td>...</td>\n",
       "      <td>...</td>\n",
       "      <td>...</td>\n",
       "      <td>...</td>\n",
       "    </tr>\n",
       "    <tr>\n",
       "      <th>4851</th>\n",
       "      <td>1</td>\n",
       "      <td>40.0</td>\n",
       "      <td>Self Enquiry</td>\n",
       "      <td>1</td>\n",
       "      <td>Salaried</td>\n",
       "      <td>Female</td>\n",
       "      <td>4</td>\n",
       "      <td>5.0</td>\n",
       "      <td>Married</td>\n",
       "      <td>3.0</td>\n",
       "      <td>1</td>\n",
       "      <td>1</td>\n",
       "      <td>1.0</td>\n",
       "      <td>Executive</td>\n",
       "      <td>35801.0</td>\n",
       "    </tr>\n",
       "    <tr>\n",
       "      <th>4859</th>\n",
       "      <td>1</td>\n",
       "      <td>51.0</td>\n",
       "      <td>Company Invited</td>\n",
       "      <td>3</td>\n",
       "      <td>Salaried</td>\n",
       "      <td>Male</td>\n",
       "      <td>3</td>\n",
       "      <td>3.0</td>\n",
       "      <td>Single</td>\n",
       "      <td>5.0</td>\n",
       "      <td>1</td>\n",
       "      <td>1</td>\n",
       "      <td>2.0</td>\n",
       "      <td>Manager</td>\n",
       "      <td>35558.0</td>\n",
       "    </tr>\n",
       "    <tr>\n",
       "      <th>4868</th>\n",
       "      <td>1</td>\n",
       "      <td>43.0</td>\n",
       "      <td>Company Invited</td>\n",
       "      <td>2</td>\n",
       "      <td>Salaried</td>\n",
       "      <td>Female</td>\n",
       "      <td>4</td>\n",
       "      <td>3.0</td>\n",
       "      <td>Married</td>\n",
       "      <td>3.0</td>\n",
       "      <td>0</td>\n",
       "      <td>1</td>\n",
       "      <td>2.0</td>\n",
       "      <td>Executive</td>\n",
       "      <td>36539.0</td>\n",
       "    </tr>\n",
       "    <tr>\n",
       "      <th>4869</th>\n",
       "      <td>1</td>\n",
       "      <td>56.0</td>\n",
       "      <td>Self Enquiry</td>\n",
       "      <td>3</td>\n",
       "      <td>Small Business</td>\n",
       "      <td>Female</td>\n",
       "      <td>3</td>\n",
       "      <td>4.0</td>\n",
       "      <td>Single</td>\n",
       "      <td>3.0</td>\n",
       "      <td>0</td>\n",
       "      <td>1</td>\n",
       "      <td>2.0</td>\n",
       "      <td>Executive</td>\n",
       "      <td>37865.0</td>\n",
       "    </tr>\n",
       "    <tr>\n",
       "      <th>4870</th>\n",
       "      <td>1</td>\n",
       "      <td>57.0</td>\n",
       "      <td>Self Enquiry</td>\n",
       "      <td>3</td>\n",
       "      <td>Salaried</td>\n",
       "      <td>Female</td>\n",
       "      <td>4</td>\n",
       "      <td>3.0</td>\n",
       "      <td>Single</td>\n",
       "      <td>4.0</td>\n",
       "      <td>1</td>\n",
       "      <td>1</td>\n",
       "      <td>3.0</td>\n",
       "      <td>Senior Manager</td>\n",
       "      <td>38395.0</td>\n",
       "    </tr>\n",
       "  </tbody>\n",
       "</table>\n",
       "<p>373 rows × 15 columns</p>\n",
       "</div>"
      ],
      "text/plain": [
       "      ProdTaken   Age PreferredLoginDevice  CityTier      Occupation  Gender  \\\n",
       "25            0  53.0         Self Enquiry         1        Salaried  Female   \n",
       "29            0  46.0         Self Enquiry         3  Small Business  Female   \n",
       "38            0  36.0         Self Enquiry         1        Salaried  Female   \n",
       "45            1  41.0         Self Enquiry         1  Large Business  Female   \n",
       "62            0  50.0         Self Enquiry         1  Small Business  Female   \n",
       "...         ...   ...                  ...       ...             ...     ...   \n",
       "4851          1  40.0         Self Enquiry         1        Salaried  Female   \n",
       "4859          1  51.0      Company Invited         3        Salaried    Male   \n",
       "4868          1  43.0      Company Invited         2        Salaried  Female   \n",
       "4869          1  56.0         Self Enquiry         3  Small Business  Female   \n",
       "4870          1  57.0         Self Enquiry         3        Salaried  Female   \n",
       "\n",
       "      NumberOfPersonVisited  PreferredPropertyStar MaritalStatus  \\\n",
       "25                        2                    3.0       Married   \n",
       "29                        2                    5.0        Single   \n",
       "38                        2                    3.0      Divorced   \n",
       "45                        2                    3.0      Divorced   \n",
       "62                        2                    3.0       Married   \n",
       "...                     ...                    ...           ...   \n",
       "4851                      4                    5.0       Married   \n",
       "4859                      3                    3.0        Single   \n",
       "4868                      4                    3.0       Married   \n",
       "4869                      3                    4.0        Single   \n",
       "4870                      4                    3.0        Single   \n",
       "\n",
       "      NumberOfTrips  Passport  OwnCar  NumberOfChildrenVisited  \\\n",
       "25              5.0         0       0                      1.0   \n",
       "29              4.0         0       0                      1.0   \n",
       "38              1.0         1       1                      0.0   \n",
       "45              2.0         0       1                      0.0   \n",
       "62              6.0         1       1                      1.0   \n",
       "...             ...       ...     ...                      ...   \n",
       "4851            3.0         1       1                      1.0   \n",
       "4859            5.0         1       1                      2.0   \n",
       "4868            3.0         0       1                      2.0   \n",
       "4869            3.0         0       1                      2.0   \n",
       "4870            4.0         1       1                      3.0   \n",
       "\n",
       "         Designation  MonthlyIncome  \n",
       "25                VP        34094.0  \n",
       "29                VP        33947.0  \n",
       "38         Executive        40000.0  \n",
       "45                VP        34545.0  \n",
       "62                VP        33740.0  \n",
       "...              ...            ...  \n",
       "4851       Executive        35801.0  \n",
       "4859         Manager        35558.0  \n",
       "4868       Executive        36539.0  \n",
       "4869       Executive        37865.0  \n",
       "4870  Senior Manager        38395.0  \n",
       "\n",
       "[373 rows x 15 columns]"
      ]
     },
     "execution_count": 88,
     "metadata": {},
     "output_type": "execute_result"
    }
   ],
   "source": [
    "data_clean[data_clean.MonthlyIncome>upper_fence]"
   ]
  },
  {
   "cell_type": "markdown",
   "metadata": {},
   "source": [
    "There are **373** values which corresponds to the number of outliers.  \n",
    "Therefore let's cap the Monthly Income at the upper fence.  "
   ]
  },
  {
   "cell_type": "code",
   "execution_count": 89,
   "metadata": {},
   "outputs": [],
   "source": [
    "# capping outliers at upper_fence\n",
    "\n",
    "data_clean.MonthlyIncome = np.where(data_clean.MonthlyIncome > upper_fence,\n",
    "                                    upper_fence, data_clean.MonthlyIncome)"
   ]
  },
  {
   "cell_type": "markdown",
   "metadata": {},
   "source": [
    " ---"
   ]
  },
  {
   "cell_type": "markdown",
   "metadata": {},
   "source": [
    "## Target Variable check"
   ]
  },
  {
   "cell_type": "markdown",
   "metadata": {},
   "source": [
    "**Binary/ Dichotomoy check**"
   ]
  },
  {
   "cell_type": "code",
   "execution_count": 90,
   "metadata": {
    "scrolled": true
   },
   "outputs": [
    {
     "name": "stdout",
     "output_type": "stream",
     "text": [
      "There are '2' states of the target variable.\n"
     ]
    },
    {
     "data": {
      "text/plain": [
       "0    3968\n",
       "1     920\n",
       "Name: ProdTaken, dtype: int64"
      ]
     },
     "execution_count": 90,
     "metadata": {},
     "output_type": "execute_result"
    }
   ],
   "source": [
    "# Check the unique values\n",
    "unique_target_states = data.ProdTaken.nunique()\n",
    "print(f\"There are '{unique_target_states}' states of the target variable.\")\n",
    "# Unique value counts\n",
    "data.ProdTaken.value_counts()"
   ]
  },
  {
   "cell_type": "markdown",
   "metadata": {},
   "source": [
    "<font color='red'>The Target Variable is **Moderately Imbalance**"
   ]
  },
  {
   "cell_type": "markdown",
   "metadata": {},
   "source": [
    " ---"
   ]
  }
 ],
 "metadata": {
  "kernelspec": {
   "display_name": "Python 3 (ipykernel)",
   "language": "python",
   "name": "python3"
  },
  "language_info": {
   "codemirror_mode": {
    "name": "ipython",
    "version": 3
   },
   "file_extension": ".py",
   "mimetype": "text/x-python",
   "name": "python",
   "nbconvert_exporter": "python",
   "pygments_lexer": "ipython3",
   "version": "3.11.5"
  },
  "toc": {
   "base_numbering": 1,
   "nav_menu": {},
   "number_sections": true,
   "sideBar": true,
   "skip_h1_title": false,
   "title_cell": "Table of Contents",
   "title_sidebar": "Contents",
   "toc_cell": false,
   "toc_position": {
    "height": "601.667px",
    "left": "26px",
    "top": "110.633px",
    "width": "337.656px"
   },
   "toc_section_display": true,
   "toc_window_display": true
  },
  "varInspector": {
   "cols": {
    "lenName": 16,
    "lenType": 16,
    "lenVar": 40
   },
   "kernels_config": {
    "python": {
     "delete_cmd_postfix": "",
     "delete_cmd_prefix": "del ",
     "library": "var_list.py",
     "varRefreshCmd": "print(var_dic_list())"
    },
    "r": {
     "delete_cmd_postfix": ") ",
     "delete_cmd_prefix": "rm(",
     "library": "var_list.r",
     "varRefreshCmd": "cat(var_dic_list()) "
    }
   },
   "types_to_exclude": [
    "module",
    "function",
    "builtin_function_or_method",
    "instance",
    "_Feature"
   ],
   "window_display": false
  }
 },
 "nbformat": 4,
 "nbformat_minor": 4
}
